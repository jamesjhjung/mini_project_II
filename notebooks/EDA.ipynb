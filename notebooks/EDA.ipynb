{
 "cells": [
  {
   "cell_type": "code",
   "execution_count": 1,
   "metadata": {},
   "outputs": [],
   "source": [
    "# imports\n",
    "import pandas as pd\n",
    "from pandas.io.json import json_normalize\n",
    "import requests\n",
    "import os\n",
    "import json\n",
    "import sqlite3\n",
    "from sqlalchemy import create_engine"
   ]
  },
  {
   "cell_type": "markdown",
   "metadata": {},
   "source": [
    "# Foursquare"
   ]
  },
  {
   "cell_type": "markdown",
   "metadata": {},
   "source": [
    "Send a request to Foursquare with a small radius (1000m) with the location of your choice"
   ]
  },
  {
   "cell_type": "code",
   "execution_count": 2,
   "metadata": {},
   "outputs": [],
   "source": [
    "foursquare_key = os.environ[\"FOURSQUARE_API_KEY\"]\n",
    "lat = '49.26660189762465'\n",
    "long = '-123.25003857290854'\n",
    "\n",
    "headers = {'Accept': 'application/json'}\n",
    "headers['Authorization'] = foursquare_key\n",
    "\n",
    "url_append = f'?ll={lat}%2C{long}&radius=5000&categories=13000'\n",
    "\n",
    "url = \"https://api.foursquare.com/v3/places/search\""
   ]
  },
  {
   "cell_type": "code",
   "execution_count": 3,
   "metadata": {},
   "outputs": [],
   "source": [
    "def fsq_get_venues(lat, long):\n",
    "    \"\"\"\n",
    "    1. Executes get request from FSQ API\n",
    "    2. Prints status code of get request\n",
    "    3. Returns normalized DataFrame from JSON file retrieved by the get request\n",
    "    \"\"\"\n",
    "    res = requests.get(url + url_append, headers = headers)\n",
    "    print('The status code is: ' + str(res.status_code))\n",
    "    request_json = res.json()\n",
    "\n",
    "    fsq_data = pd.json_normalize(request_json, record_path = 'results')\n",
    "    return fsq_data"
   ]
  },
  {
   "cell_type": "code",
   "execution_count": 4,
   "metadata": {},
   "outputs": [
    {
     "name": "stdout",
     "output_type": "stream",
     "text": [
      "The status code is: 200\n"
     ]
    }
   ],
   "source": [
    "df = fsq_get_venues(lat, long)"
   ]
  },
  {
   "cell_type": "markdown",
   "metadata": {},
   "source": [
    "Parse through the response to get the POI details you want (rating, name, location, etc)"
   ]
  },
  {
   "cell_type": "code",
   "execution_count": 5,
   "metadata": {},
   "outputs": [
    {
     "data": {
      "text/html": [
       "<div>\n",
       "<style scoped>\n",
       "    .dataframe tbody tr th:only-of-type {\n",
       "        vertical-align: middle;\n",
       "    }\n",
       "\n",
       "    .dataframe tbody tr th {\n",
       "        vertical-align: top;\n",
       "    }\n",
       "\n",
       "    .dataframe thead th {\n",
       "        text-align: right;\n",
       "    }\n",
       "</style>\n",
       "<table border=\"1\" class=\"dataframe\">\n",
       "  <thead>\n",
       "    <tr style=\"text-align: right;\">\n",
       "      <th></th>\n",
       "      <th>name</th>\n",
       "      <th>categories</th>\n",
       "      <th>location.address</th>\n",
       "    </tr>\n",
       "  </thead>\n",
       "  <tbody>\n",
       "    <tr>\n",
       "      <th>0</th>\n",
       "      <td>Loafe Cafe</td>\n",
       "      <td>[{'id': 13034, 'name': 'Café', 'icon': {'prefi...</td>\n",
       "      <td>6163 University Blvd</td>\n",
       "    </tr>\n",
       "    <tr>\n",
       "      <th>1</th>\n",
       "      <td>Mercante</td>\n",
       "      <td>[{'id': 13064, 'name': 'Pizzeria', 'icon': {'p...</td>\n",
       "      <td>6488 University Blvd</td>\n",
       "    </tr>\n",
       "    <tr>\n",
       "      <th>2</th>\n",
       "      <td>Great Dane Coffee</td>\n",
       "      <td>[{'id': 13034, 'name': 'Café', 'icon': {'prefi...</td>\n",
       "      <td>6011 Walter Gage Rd</td>\n",
       "    </tr>\n",
       "    <tr>\n",
       "      <th>3</th>\n",
       "      <td>The Boulevard Coffee Roasting Co</td>\n",
       "      <td>[{'id': 13035, 'name': 'Coffee Shop', 'icon': ...</td>\n",
       "      <td>5970 University Blvd</td>\n",
       "    </tr>\n",
       "    <tr>\n",
       "      <th>4</th>\n",
       "      <td>Koerner's Pub</td>\n",
       "      <td>[{'id': 10000, 'name': 'Arts and Entertainment...</td>\n",
       "      <td>6371 Crescent Rd</td>\n",
       "    </tr>\n",
       "    <tr>\n",
       "      <th>5</th>\n",
       "      <td>Beyond Bread Ltd</td>\n",
       "      <td>[{'id': 13002, 'name': 'Bakery', 'icon': {'pre...</td>\n",
       "      <td>3686 4th Ave W</td>\n",
       "    </tr>\n",
       "    <tr>\n",
       "      <th>6</th>\n",
       "      <td>Baru Cafe</td>\n",
       "      <td>[{'id': 13068, 'name': 'American Restaurant', ...</td>\n",
       "      <td>2535 Alma St</td>\n",
       "    </tr>\n",
       "    <tr>\n",
       "      <th>7</th>\n",
       "      <td>Only U Cafe</td>\n",
       "      <td>[{'id': 13034, 'name': 'Café', 'icon': {'prefi...</td>\n",
       "      <td>5737 Dalhousie Rd</td>\n",
       "    </tr>\n",
       "    <tr>\n",
       "      <th>8</th>\n",
       "      <td>Breka Downtown Bakery Cafe Inc</td>\n",
       "      <td>[{'id': 13002, 'name': 'Bakery', 'icon': {'pre...</td>\n",
       "      <td>3750 4th Ave W</td>\n",
       "    </tr>\n",
       "    <tr>\n",
       "      <th>9</th>\n",
       "      <td>Rajio Japanese Public House</td>\n",
       "      <td>[{'id': 13263, 'name': 'Japanese Restaurant', ...</td>\n",
       "      <td>3763W 10th Ave W</td>\n",
       "    </tr>\n",
       "  </tbody>\n",
       "</table>\n",
       "</div>"
      ],
      "text/plain": [
       "                               name  \\\n",
       "0                        Loafe Cafe   \n",
       "1                          Mercante   \n",
       "2                 Great Dane Coffee   \n",
       "3  The Boulevard Coffee Roasting Co   \n",
       "4                     Koerner's Pub   \n",
       "5                  Beyond Bread Ltd   \n",
       "6                         Baru Cafe   \n",
       "7                       Only U Cafe   \n",
       "8    Breka Downtown Bakery Cafe Inc   \n",
       "9       Rajio Japanese Public House   \n",
       "\n",
       "                                          categories      location.address  \n",
       "0  [{'id': 13034, 'name': 'Café', 'icon': {'prefi...  6163 University Blvd  \n",
       "1  [{'id': 13064, 'name': 'Pizzeria', 'icon': {'p...  6488 University Blvd  \n",
       "2  [{'id': 13034, 'name': 'Café', 'icon': {'prefi...   6011 Walter Gage Rd  \n",
       "3  [{'id': 13035, 'name': 'Coffee Shop', 'icon': ...  5970 University Blvd  \n",
       "4  [{'id': 10000, 'name': 'Arts and Entertainment...      6371 Crescent Rd  \n",
       "5  [{'id': 13002, 'name': 'Bakery', 'icon': {'pre...        3686 4th Ave W  \n",
       "6  [{'id': 13068, 'name': 'American Restaurant', ...          2535 Alma St  \n",
       "7  [{'id': 13034, 'name': 'Café', 'icon': {'prefi...     5737 Dalhousie Rd  \n",
       "8  [{'id': 13002, 'name': 'Bakery', 'icon': {'pre...        3750 4th Ave W  \n",
       "9  [{'id': 13263, 'name': 'Japanese Restaurant', ...      3763W 10th Ave W  "
      ]
     },
     "execution_count": 5,
     "metadata": {},
     "output_type": "execute_result"
    }
   ],
   "source": [
    "df[['name', 'categories', 'location.address']]"
   ]
  },
  {
   "cell_type": "markdown",
   "metadata": {},
   "source": [
    "Put your parsed results into a DataFrame"
   ]
  },
  {
   "cell_type": "code",
   "execution_count": 6,
   "metadata": {},
   "outputs": [
    {
     "data": {
      "text/html": [
       "<div>\n",
       "<style scoped>\n",
       "    .dataframe tbody tr th:only-of-type {\n",
       "        vertical-align: middle;\n",
       "    }\n",
       "\n",
       "    .dataframe tbody tr th {\n",
       "        vertical-align: top;\n",
       "    }\n",
       "\n",
       "    .dataframe thead th {\n",
       "        text-align: right;\n",
       "    }\n",
       "</style>\n",
       "<table border=\"1\" class=\"dataframe\">\n",
       "  <thead>\n",
       "    <tr style=\"text-align: right;\">\n",
       "      <th></th>\n",
       "      <th>name</th>\n",
       "      <th>categories</th>\n",
       "      <th>location.address</th>\n",
       "    </tr>\n",
       "  </thead>\n",
       "  <tbody>\n",
       "    <tr>\n",
       "      <th>0</th>\n",
       "      <td>Loafe Cafe</td>\n",
       "      <td>[{'id': 13034, 'name': 'Café', 'icon': {'prefi...</td>\n",
       "      <td>6163 University Blvd</td>\n",
       "    </tr>\n",
       "    <tr>\n",
       "      <th>1</th>\n",
       "      <td>Mercante</td>\n",
       "      <td>[{'id': 13064, 'name': 'Pizzeria', 'icon': {'p...</td>\n",
       "      <td>6488 University Blvd</td>\n",
       "    </tr>\n",
       "    <tr>\n",
       "      <th>2</th>\n",
       "      <td>Great Dane Coffee</td>\n",
       "      <td>[{'id': 13034, 'name': 'Café', 'icon': {'prefi...</td>\n",
       "      <td>6011 Walter Gage Rd</td>\n",
       "    </tr>\n",
       "    <tr>\n",
       "      <th>3</th>\n",
       "      <td>The Boulevard Coffee Roasting Co</td>\n",
       "      <td>[{'id': 13035, 'name': 'Coffee Shop', 'icon': ...</td>\n",
       "      <td>5970 University Blvd</td>\n",
       "    </tr>\n",
       "    <tr>\n",
       "      <th>4</th>\n",
       "      <td>Koerner's Pub</td>\n",
       "      <td>[{'id': 10000, 'name': 'Arts and Entertainment...</td>\n",
       "      <td>6371 Crescent Rd</td>\n",
       "    </tr>\n",
       "    <tr>\n",
       "      <th>5</th>\n",
       "      <td>Beyond Bread Ltd</td>\n",
       "      <td>[{'id': 13002, 'name': 'Bakery', 'icon': {'pre...</td>\n",
       "      <td>3686 4th Ave W</td>\n",
       "    </tr>\n",
       "    <tr>\n",
       "      <th>6</th>\n",
       "      <td>Baru Cafe</td>\n",
       "      <td>[{'id': 13068, 'name': 'American Restaurant', ...</td>\n",
       "      <td>2535 Alma St</td>\n",
       "    </tr>\n",
       "    <tr>\n",
       "      <th>7</th>\n",
       "      <td>Only U Cafe</td>\n",
       "      <td>[{'id': 13034, 'name': 'Café', 'icon': {'prefi...</td>\n",
       "      <td>5737 Dalhousie Rd</td>\n",
       "    </tr>\n",
       "    <tr>\n",
       "      <th>8</th>\n",
       "      <td>Breka Downtown Bakery Cafe Inc</td>\n",
       "      <td>[{'id': 13002, 'name': 'Bakery', 'icon': {'pre...</td>\n",
       "      <td>3750 4th Ave W</td>\n",
       "    </tr>\n",
       "    <tr>\n",
       "      <th>9</th>\n",
       "      <td>Rajio Japanese Public House</td>\n",
       "      <td>[{'id': 13263, 'name': 'Japanese Restaurant', ...</td>\n",
       "      <td>3763W 10th Ave W</td>\n",
       "    </tr>\n",
       "  </tbody>\n",
       "</table>\n",
       "</div>"
      ],
      "text/plain": [
       "                               name  \\\n",
       "0                        Loafe Cafe   \n",
       "1                          Mercante   \n",
       "2                 Great Dane Coffee   \n",
       "3  The Boulevard Coffee Roasting Co   \n",
       "4                     Koerner's Pub   \n",
       "5                  Beyond Bread Ltd   \n",
       "6                         Baru Cafe   \n",
       "7                       Only U Cafe   \n",
       "8    Breka Downtown Bakery Cafe Inc   \n",
       "9       Rajio Japanese Public House   \n",
       "\n",
       "                                          categories      location.address  \n",
       "0  [{'id': 13034, 'name': 'Café', 'icon': {'prefi...  6163 University Blvd  \n",
       "1  [{'id': 13064, 'name': 'Pizzeria', 'icon': {'p...  6488 University Blvd  \n",
       "2  [{'id': 13034, 'name': 'Café', 'icon': {'prefi...   6011 Walter Gage Rd  \n",
       "3  [{'id': 13035, 'name': 'Coffee Shop', 'icon': ...  5970 University Blvd  \n",
       "4  [{'id': 10000, 'name': 'Arts and Entertainment...      6371 Crescent Rd  \n",
       "5  [{'id': 13002, 'name': 'Bakery', 'icon': {'pre...        3686 4th Ave W  \n",
       "6  [{'id': 13068, 'name': 'American Restaurant', ...          2535 Alma St  \n",
       "7  [{'id': 13034, 'name': 'Café', 'icon': {'prefi...     5737 Dalhousie Rd  \n",
       "8  [{'id': 13002, 'name': 'Bakery', 'icon': {'pre...        3750 4th Ave W  \n",
       "9  [{'id': 13263, 'name': 'Japanese Restaurant', ...      3763W 10th Ave W  "
      ]
     },
     "execution_count": 6,
     "metadata": {},
     "output_type": "execute_result"
    }
   ],
   "source": [
    "parsed_df = df[['name', 'categories', 'location.address']]\n",
    "parsed_df"
   ]
  },
  {
   "cell_type": "markdown",
   "metadata": {},
   "source": [
    "# Yelp"
   ]
  },
  {
   "cell_type": "markdown",
   "metadata": {},
   "source": [
    "Send a request with the same location paramaters (location, radius, etc)"
   ]
  },
  {
   "cell_type": "code",
   "execution_count": null,
   "metadata": {},
   "outputs": [],
   "source": [
    "yelp_key = os.environ[\"YELP_API_KEY\"]\n",
    "lat = '49.26660189762465'\n",
    "long = '-123.25003857290854'\n",
    "\n",
    "url = \"https://api.yelp.com/v3/businesses/search\"\n",
    "headers = {'Authorization': 'Bearer %s' % yelp_key}\n",
    "params = {'latitude': lat,\n",
    "          'longitude': long,\n",
    "          'radius': 5000,\n",
    "          'categories': 'food'}"
   ]
  },
  {
   "cell_type": "code",
   "execution_count": null,
   "metadata": {},
   "outputs": [],
   "source": [
    "def yelp_get_venues(lat, long):\n",
    "    \"\"\"\n",
    "    1. Executes get request from Yelp API\n",
    "    2. Prints status code of get request\n",
    "    3. Returns normalized DataFrame from JSON file retrieved by the get request\n",
    "    \"\"\"\n",
    "    res = requests.get(url, params = params, headers = headers)\n",
    "    print('The status code is: ' + str(res.status_code))\n",
    "    request_json = res.json()\n",
    "\n",
    "    yelp_data = pd.json_normalize(request_json, record_path = 'businesses')\n",
    "    return yelp_data"
   ]
  },
  {
   "cell_type": "code",
   "execution_count": null,
   "metadata": {},
   "outputs": [],
   "source": [
    "df = yelp_get_venues(lat, long)"
   ]
  },
  {
   "cell_type": "markdown",
   "metadata": {},
   "source": [
    "Parse through your result and get POI details"
   ]
  },
  {
   "cell_type": "code",
   "execution_count": null,
   "metadata": {},
   "outputs": [],
   "source": [
    "df[['name', 'categories', 'location.address1', 'rating']]"
   ]
  },
  {
   "cell_type": "markdown",
   "metadata": {},
   "source": [
    "Put your parsed results into a DataFrame"
   ]
  },
  {
   "cell_type": "code",
   "execution_count": null,
   "metadata": {},
   "outputs": [],
   "source": [
    "parsed_df = df[['name', 'categories', 'location.address1', 'rating']]\n",
    "parsed_df"
   ]
  },
  {
   "cell_type": "markdown",
   "metadata": {},
   "source": [
    "# Database"
   ]
  },
  {
   "cell_type": "markdown",
   "metadata": {},
   "source": [
    "Put all your results in an SQLite3 database (remember, SQLite stores its databases as files in your local machine - make sure to create your database in your project's data/ directory!)"
   ]
  },
  {
   "cell_type": "code",
   "execution_count": null,
   "metadata": {},
   "outputs": [],
   "source": [
    "# Creating database and inserting fsq table\n",
    "\n",
    "# While writing the code this notebook was in the main mini_project_ii directory, not in /notebooks\n",
    "# Therefore, access to database will require change in directory for the sqlite3.connect() method below.\n",
    "\n",
    "with sqlite3.connect('data/mini_project_ii.db') as con: \n",
    "    cur = con.cursor()\n",
    "    cur.execute(\"CREATE TABLE IF NOT EXISTS fsq_table (id INTEGER PRIMARY KEY AUTOINCREMENT,name TEXT NOT NULL,type TEXT,address TEXT);\")\n",
    "    cur.execute(\"INSERT INTO fsq_table (name, type, address) VALUES ('Loafe Cafe', 'Café', '6163 University Blvd');\")\n",
    "    cur.execute(\"INSERT INTO fsq_table (name, type, address) VALUES ('Mercante', 'Pizzeria', '6488 University Blvd');\")\n",
    "    cur.execute(\"INSERT INTO fsq_table (name, type, address) VALUES ('Great Dane Coffee', 'Café', '6011 Walter Gage Rd');\")\n",
    "    cur.execute(\"INSERT INTO fsq_table (name, type, address) VALUES ('The Boulevard Coffee Roasting Co', 'Coffee Shop', '5970 University Blvd');\")\n",
    "    cur.execute(\"INSERT INTO fsq_table (name, type, address) VALUES ('Koerners Pub', 'Arts and Entertainment', '6371 Crescent Rd');\")\n",
    "    cur.execute(\"INSERT INTO fsq_table (name, type, address) VALUES ('Beyond Bread Ltd', 'Bakery', '3686 4th Ave W');\")\n",
    "    cur.execute(\"INSERT INTO fsq_table (name, type, address) VALUES ('JJ Bean', 'Coffee Shop', '6005 University Blvd');\")\n",
    "    cur.execute(\"INSERT INTO fsq_table (name, type, address) VALUES ('Breka Downtown Bakery Cafe Inc', 'Bakery', '3750 4th Ave W');\")\n",
    "    cur.execute(\"INSERT INTO fsq_table (name, type, address) VALUES ('Rajio Japanese Public House', 'Japanese Restaurant', '3763W 10th Ave W');\")\n",
    "    cur.execute(\"INSERT INTO fsq_table (name, type, address) VALUES ('Biercraft Wesbrook at UBC', 'Bar', '3340 Shrum Lane');\")"
   ]
  },
  {
   "cell_type": "code",
   "execution_count": null,
   "metadata": {},
   "outputs": [],
   "source": [
    "# While writing the code this notebook was in the main mini_project_ii directory, not in /notebooks\n",
    "# Therefore, access to database will require change in directory for the create_engine() method below.\n",
    "\n",
    "table = 'fsq_table'\n",
    "\n",
    "with create_engine('sqlite:///data/mini_project_ii.db').connect() as con:\n",
    "    fsq_table_df = pd.read_sql_table(table, con)\n",
    "\n",
    "fsq_table_df"
   ]
  },
  {
   "cell_type": "code",
   "execution_count": null,
   "metadata": {},
   "outputs": [],
   "source": [
    "# Creating database and inserting yelp table\n",
    "\n",
    "# While writing the code this notebook was in the main mini_project_ii directory, not in /notebooks\n",
    "# Therefore, access to database will require change in directory for the sqlite3.connect() method below.\n",
    "\n",
    "with sqlite3.connect('data/mini_project_ii.db') as con:\n",
    "    cur = con.cursor()\n",
    "    cur.execute(\"CREATE TABLE IF NOT EXISTS yelp_table (id INTEGER PRIMARY KEY AUTOINCREMENT,name TEXT NOT NULL,type TEXT,address TEXT,rating DECIMAL);\")\n",
    "    cur.execute(\"INSERT INTO yelp_table (name, type, address, rating) VALUES ('Doughgirls', 'cafes', '3322 Shrum Lane', 4.5);\")\n",
    "    cur.execute(\"INSERT INTO yelp_table (name, type, address, rating) VALUES ('Grounds For Coffee', 'coffee', '2565 Alma Street', 4.0);\")\n",
    "    cur.execute(\"INSERT INTO yelp_table (name, type, address, rating) VALUES ('The PokéMan', 'poke', '3742 10th Avenue W', 4.5);\")\n",
    "    cur.execute(\"INSERT INTO yelp_table (name, type, address, rating) VALUES ('The Boulevard Coffee Roasting', 'coffee', '5970 University Boulevard', 3.5);\")\n",
    "    cur.execute(\"INSERT INTO yelp_table (name, type, address, rating) VALUES ('Mercante', 'pizza', '6488 University Boulevard', 3.5);\")\n",
    "    cur.execute(\"INSERT INTO yelp_table (name, type, address, rating) VALUES ('Aphrodites Organic Pie Shop', 'gluten_free', '3598 W 4th Avenue', 3.5);\")\n",
    "    cur.execute(\"INSERT INTO yelp_table (name, type, address, rating) VALUES ('Rain or Shine', 'icecream', '6001 University Boulevard', 4.0);\")\n",
    "    cur.execute(\"INSERT INTO yelp_table (name, type, address, rating) VALUES ('Caffe W', 'coffee', '3646 W Broadway', 4.5);\")\n",
    "    cur.execute(\"INSERT INTO yelp_table (name, type, address, rating) VALUES ('Bean Around The World UBC', 'coffee', '6308 Thunderbird Blvd', 4.0);\")\n",
    "    cur.execute(\"INSERT INTO yelp_table (name, type, address, rating) VALUES ('Pearl Fever Tea House', 'coffee', '2182 Western Parkway', 3.5);\")\n",
    "    cur.execute(\"INSERT INTO yelp_table (name, type, address, rating) VALUES ('Blue Chip Cookies', 'desserts', '1302-6133 Student Union Boulevard', 4.0);\")\n",
    "    cur.execute(\"INSERT INTO yelp_table (name, type, address, rating) VALUES ('JJ Bean', 'coffeeroasteries', '6005 University Boulevard', 4.0);\")\n",
    "    cur.execute(\"INSERT INTO yelp_table (name, type, address, rating) VALUES ('Perchance', 'coffee', '3363 Dunbar St', 4.5);\")\n",
    "    cur.execute(\"INSERT INTO yelp_table (name, type, address, rating) VALUES ('Breka Bakery & Cafe', 'bakeries', '3750 W 4th Avenue', 4.0);\")\n",
    "    cur.execute(\"INSERT INTO yelp_table (name, type, address, rating) VALUES ('Beyond Bread Artisan Bakery', 'bakeries', '3686 W 4th Avenue', 4.0);\")\n",
    "    cur.execute(\"INSERT INTO yelp_table (name, type, address, rating) VALUES ('UBC Farm Farmers Market', 'farmersmarket', '3461 Ross Drive', 4.5);\")\n",
    "    cur.execute(\"INSERT INTO yelp_table (name, type, address, rating) VALUES ('Stongs Market', 'grocery', '4221 Dunbar Street', 4.0);\")\n",
    "    cur.execute(\"INSERT INTO yelp_table (name, type, address, rating) VALUES ('Bean Around the World Coffees', 'coffee', '4456 10th Avenue W', 4.0);\")\n",
    "    cur.execute(\"INSERT INTO yelp_table (name, type, address, rating) VALUES ('Mix the Bakery', 'bakeries', '4430 10th Avenue W', 3.5);\")\n",
    "    cur.execute(\"INSERT INTO yelp_table (name, type, address, rating) VALUES ('Steves Poke Bar', 'poke', '3-5990 University Blvd', 4.5);\")"
   ]
  },
  {
   "cell_type": "code",
   "execution_count": null,
   "metadata": {},
   "outputs": [],
   "source": [
    "# While writing the code this notebook was in the main mini_project_ii directory, not in /notebooks\n",
    "# Therefore, access to database will require change in directory for the create_engine() method below.\n",
    "\n",
    "table = 'yelp_table'\n",
    "\n",
    "with create_engine('sqlite:///data/mini_project_ii.db').connect() as con:\n",
    "    yelp_table_df = pd.read_sql(table, con)\n",
    "\n",
    "yelp_table_df"
   ]
  },
  {
   "cell_type": "markdown",
   "metadata": {},
   "source": [
    "Get the top 10 restaurants according to their rating"
   ]
  },
  {
   "cell_type": "code",
   "execution_count": null,
   "metadata": {},
   "outputs": [],
   "source": [
    "# While writing the code this notebook was in the main mini_project_ii directory, not in /notebooks\n",
    "# Therefore, access to database will require change in directory for the create_engine() method below.\n",
    "\n",
    "sql = \"SELECT name, rating FROM yelp_table ORDER BY rating DESC LIMIT 10\"\n",
    "\n",
    "with create_engine('sqlite:///data/mini_project_ii.db').connect() as con:\n",
    "    top_rating_df = pd.read_sql(sql, con)\n",
    "\n",
    "top_rating_df"
   ]
  }
 ],
 "metadata": {
  "kernelspec": {
   "display_name": "Python 3 (ipykernel)",
   "language": "python",
   "name": "python3"
  },
  "language_info": {
   "codemirror_mode": {
    "name": "ipython",
    "version": 3
   },
   "file_extension": ".py",
   "mimetype": "text/x-python",
   "name": "python",
   "nbconvert_exporter": "python",
   "pygments_lexer": "ipython3",
   "version": "3.9.12"
  }
 },
 "nbformat": 4,
 "nbformat_minor": 2
}
