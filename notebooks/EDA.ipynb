{
 "cells": [
  {
   "cell_type": "code",
   "execution_count": null,
   "metadata": {},
   "outputs": [],
   "source": [
    "# imports\n",
    "import pandas as pd\n",
    "from pandas.io.json import json_normalize\n",
    "import requests\n",
    "import os\n",
    "import json\n",
    "import sqlite3\n",
    "from sqlalchemy import create_engine"
   ]
  },
  {
   "cell_type": "markdown",
   "metadata": {},
   "source": [
    "# Foursquare"
   ]
  },
  {
   "cell_type": "markdown",
   "metadata": {},
   "source": [
    "Send a request to Foursquare with a small radius (1000m) with the location of your choice"
   ]
  },
  {
   "cell_type": "code",
   "execution_count": null,
   "metadata": {},
   "outputs": [],
   "source": [
    "foursquare_key = os.environ[\"FOURSQUARE_API_KEY\"]\n",
    "lat = '49.26660189762465'\n",
    "long = '-123.25003857290854'\n",
    "\n",
    "headers = {'Accept': 'application/json'}\n",
    "headers['Authorization'] = foursquare_key\n",
    "\n",
    "url_append = f'?ll={lat}%2C{long}&radius=5000&categories=13000'\n",
    "\n",
    "url = \"https://api.foursquare.com/v3/places/search\""
   ]
  },
  {
   "cell_type": "code",
   "execution_count": null,
   "metadata": {},
   "outputs": [],
   "source": [
    "def fsq_get_venues(lat, long):\n",
    "    \"\"\"\n",
    "    1. Executes get request from FSQ API\n",
    "    2. Prints status code of get request\n",
    "    3. Returns normalized DataFrame from JSON file retrieved by the get request\n",
    "    \"\"\"\n",
    "    res = requests.get(url + url_append, headers = headers)\n",
    "    print('The status code is: ' + str(res.status_code))\n",
    "    request_json = res.json()\n",
    "\n",
    "    fsq_data = pd.json_normalize(request_json, record_path = 'results')\n",
    "    return fsq_data"
   ]
  },
  {
   "cell_type": "code",
   "execution_count": null,
   "metadata": {},
   "outputs": [],
   "source": [
    "df = fsq_get_venues(lat, long)"
   ]
  },
  {
   "cell_type": "markdown",
   "metadata": {},
   "source": [
    "Parse through the response to get the POI details you want (rating, name, location, etc)"
   ]
  },
  {
   "cell_type": "code",
   "execution_count": null,
   "metadata": {},
   "outputs": [],
   "source": [
    "df[['name', 'categories', 'location.address']]"
   ]
  },
  {
   "cell_type": "markdown",
   "metadata": {},
   "source": [
    "Put your parsed results into a DataFrame"
   ]
  },
  {
   "cell_type": "code",
   "execution_count": null,
   "metadata": {},
   "outputs": [],
   "source": [
    "parsed_df = df[['name', 'categories', 'location.address']]\n",
    "parsed_df"
   ]
  },
  {
   "cell_type": "code",
   "execution_count": null,
   "metadata": {},
   "outputs": [],
   "source": [
    "# Creating database and inserting fsq table\n",
    "\n",
    "with sqlite3.connect('mini_project_ii.db') as con:\n",
    "    cur = con.cursor()\n",
    "    cur.execute(\"CREATE TABLE IF NOT EXISTS fsq_table (id INTEGER PRIMARY KEY AUTOINCREMENT,name TEXT NOT NULL,type TEXT,address TEXT);\")\n",
    "    cur.execute(\"INSERT INTO fsq_table (name, type, address) VALUES ('Loafe Cafe', 'Café', '6163 University Blvd');\")\n",
    "    cur.execute(\"INSERT INTO fsq_table (name, type, address) VALUES ('Mercante', 'Pizzeria', '6488 University Blvd');\")\n",
    "    cur.execute(\"INSERT INTO fsq_table (name, type, address) VALUES ('Great Dane Coffee', 'Café', '6011 Walter Gage Rd');\")\n",
    "    cur.execute(\"INSERT INTO fsq_table (name, type, address) VALUES ('The Boulevard Coffee Roasting Co', 'Coffee Shop', '5970 University Blvd');\")\n",
    "    cur.execute(\"INSERT INTO fsq_table (name, type, address) VALUES ('Koerners Pub', 'Arts and Entertainment', '6371 Crescent Rd');\")\n",
    "    cur.execute(\"INSERT INTO fsq_table (name, type, address) VALUES ('Beyond Bread Ltd', 'Bakery', '3686 4th Ave W');\")\n",
    "    cur.execute(\"INSERT INTO fsq_table (name, type, address) VALUES ('JJ Bean', 'Coffee Shop', '6005 University Blvd');\")\n",
    "    cur.execute(\"INSERT INTO fsq_table (name, type, address) VALUES ('Breka Downtown Bakery Cafe Inc', 'Bakery', '3750 4th Ave W');\")\n",
    "    cur.execute(\"INSERT INTO fsq_table (name, type, address) VALUES ('Rajio Japanese Public House', 'Japanese Restaurant', '3763W 10th Ave W');\")\n",
    "    cur.execute(\"INSERT INTO fsq_table (name, type, address) VALUES ('Biercraft Wesbrook at UBC', 'Bar', '3340 Shrum Lane');\")"
   ]
  },
  {
   "cell_type": "code",
   "execution_count": null,
   "metadata": {},
   "outputs": [],
   "source": [
    "table = 'fsq_table'\n",
    "\n",
    "with create_engine('sqlite:///mini_project_ii.db').connect() as con:\n",
    "    fsq_table_df = pd.read_sql_table(table, con)\n",
    "\n",
    "fsq_table_df"
   ]
  },
  {
   "cell_type": "markdown",
   "metadata": {},
   "source": [
    "# Yelp"
   ]
  },
  {
   "cell_type": "markdown",
   "metadata": {},
   "source": [
    "Send a request with the same location paramaters (location, radius, etc)"
   ]
  },
  {
   "cell_type": "code",
   "execution_count": null,
   "metadata": {},
   "outputs": [],
   "source": [
    "yelp_key = os.environ[\"YELP_API_KEY\"]\n",
    "lat = '49.26660189762465'\n",
    "long = '-123.25003857290854'\n",
    "\n",
    "url = \"https://api.yelp.com/v3/businesses/search\"\n",
    "headers = {'Authorization': 'Bearer %s' % yelp_key}\n",
    "params = {'latitude': lat,\n",
    "          'longitude': long,\n",
    "          'radius': 5000,\n",
    "          'categories': 'food'}"
   ]
  },
  {
   "cell_type": "code",
   "execution_count": null,
   "metadata": {},
   "outputs": [],
   "source": [
    "def yelp_get_venues(lat, long):\n",
    "    \"\"\"\n",
    "    1. Executes get request from Yelp API\n",
    "    2. Prints status code of get request\n",
    "    3. Returns normalized DataFrame from JSON file retrieved by the get request\n",
    "    \"\"\"\n",
    "    res = requests.get(url, params = params, headers = headers)\n",
    "    print('The status code is: ' + str(res.status_code))\n",
    "    request_json = res.json()\n",
    "\n",
    "    yelp_data = pd.json_normalize(request_json, record_path = 'businesses')\n",
    "    return yelp_data"
   ]
  },
  {
   "cell_type": "code",
   "execution_count": null,
   "metadata": {},
   "outputs": [],
   "source": [
    "df = yelp_get_venues(lat, long)"
   ]
  },
  {
   "cell_type": "markdown",
   "metadata": {},
   "source": [
    "Parse through your result and get POI details"
   ]
  },
  {
   "cell_type": "code",
   "execution_count": null,
   "metadata": {},
   "outputs": [],
   "source": [
    "df[['name', 'categories', 'location.address1', 'rating']]"
   ]
  },
  {
   "cell_type": "markdown",
   "metadata": {},
   "source": [
    "Put your parsed results into a DataFrame"
   ]
  },
  {
   "cell_type": "code",
   "execution_count": null,
   "metadata": {},
   "outputs": [],
   "source": [
    "parsed_df = df[['name', 'categories', 'location.address1', 'rating']]\n",
    "parsed_df"
   ]
  },
  {
   "cell_type": "code",
   "execution_count": null,
   "metadata": {},
   "outputs": [],
   "source": [
    "# Creating database and inserting yelp table\n",
    "\n",
    "with sqlite3.connect('mini_project_ii.db') as con:\n",
    "    cur = con.cursor()\n",
    "    cur.execute(\"CREATE TABLE IF NOT EXISTS yelp_table (id INTEGER PRIMARY KEY AUTOINCREMENT,name TEXT NOT NULL,type TEXT,address TEXT,rating DECIMAL);\")\n",
    "    cur.execute(\"INSERT INTO yelp_table (name, type, address, rating) VALUES ('Doughgirls', 'cafes', '3322 Shrum Lane', 4.5);\")\n",
    "    cur.execute(\"INSERT INTO yelp_table (name, type, address, rating) VALUES ('Grounds For Coffee', 'coffee', '2565 Alma Street', 4.0);\")\n",
    "    cur.execute(\"INSERT INTO yelp_table (name, type, address, rating) VALUES ('The PokéMan', 'poke', '3742 10th Avenue W', 4.5);\")\n",
    "    cur.execute(\"INSERT INTO yelp_table (name, type, address, rating) VALUES ('The Boulevard Coffee Roasting', 'coffee', '5970 University Boulevard', 3.5);\")\n",
    "    cur.execute(\"INSERT INTO yelp_table (name, type, address, rating) VALUES ('Mercante', 'pizza', '6488 University Boulevard', 3.5);\")\n",
    "    cur.execute(\"INSERT INTO yelp_table (name, type, address, rating) VALUES ('Aphrodites Organic Pie Shop', 'gluten_free', '3598 W 4th Avenue', 3.5);\")\n",
    "    cur.execute(\"INSERT INTO yelp_table (name, type, address, rating) VALUES ('Rain or Shine', 'icecream', '6001 University Boulevard', 4.0);\")\n",
    "    cur.execute(\"INSERT INTO yelp_table (name, type, address, rating) VALUES ('Caffe W', 'coffee', '3646 W Broadway', 4.5);\")\n",
    "    cur.execute(\"INSERT INTO yelp_table (name, type, address, rating) VALUES ('Bean Around The World UBC', 'coffee', '6308 Thunderbird Blvd', 4.0);\")\n",
    "    cur.execute(\"INSERT INTO yelp_table (name, type, address, rating) VALUES ('Pearl Fever Tea House', 'coffee', '2182 Western Parkway', 3.5);\")\n",
    "    cur.execute(\"INSERT INTO yelp_table (name, type, address, rating) VALUES ('Blue Chip Cookies', 'desserts', '1302-6133 Student Union Boulevard', 4.0);\")\n",
    "    cur.execute(\"INSERT INTO yelp_table (name, type, address, rating) VALUES ('JJ Bean', 'coffeeroasteries', '6005 University Boulevard', 4.0);\")\n",
    "    cur.execute(\"INSERT INTO yelp_table (name, type, address, rating) VALUES ('Perchance', 'coffee', '3363 Dunbar St', 4.5);\")\n",
    "    cur.execute(\"INSERT INTO yelp_table (name, type, address, rating) VALUES ('Breka Bakery & Cafe', 'bakeries', '3750 W 4th Avenue', 4.0);\")\n",
    "    cur.execute(\"INSERT INTO yelp_table (name, type, address, rating) VALUES ('Beyond Bread Artisan Bakery', 'bakeries', '3686 W 4th Avenue', 4.0);\")\n",
    "    cur.execute(\"INSERT INTO yelp_table (name, type, address, rating) VALUES ('UBC Farm Farmers Market', 'farmersmarket', '3461 Ross Drive', 4.5);\")\n",
    "    cur.execute(\"INSERT INTO yelp_table (name, type, address, rating) VALUES ('Stongs Market', 'grocery', '4221 Dunbar Street', 4.0);\")\n",
    "    cur.execute(\"INSERT INTO yelp_table (name, type, address, rating) VALUES ('Bean Around the World Coffees', 'coffee', '4456 10th Avenue W', 4.0);\")\n",
    "    cur.execute(\"INSERT INTO yelp_table (name, type, address, rating) VALUES ('Mix the Bakery', 'bakeries', '4430 10th Avenue W', 3.5);\")\n",
    "    cur.execute(\"INSERT INTO yelp_table (name, type, address, rating) VALUES ('Steves Poke Bar', 'poke', '3-5990 University Blvd', 4.5);\")"
   ]
  },
  {
   "cell_type": "code",
   "execution_count": null,
   "metadata": {},
   "outputs": [],
   "source": [
    "table = 'yelp_table'\n",
    "\n",
    "with create_engine('sqlite:///mini_project_ii.db').connect() as con:\n",
    "    yelp_table_df = pd.read_sql(table, con)\n",
    "\n",
    "yelp_table_df"
   ]
  },
  {
   "cell_type": "markdown",
   "metadata": {},
   "source": [
    "## Top 10 POIs based on rating"
   ]
  },
  {
   "cell_type": "code",
   "execution_count": null,
   "metadata": {},
   "outputs": [],
   "source": [
    "sql = \"SELECT name, rating FROM yelp_table ORDER BY rating DESC LIMIT 10\"\n",
    "\n",
    "with create_engine('sqlite:///mini_project_ii.db').connect() as con:\n",
    "    top_rating_df = pd.read_sql(sql, con)\n",
    "\n",
    "top_rating_df"
   ]
  },
  {
   "cell_type": "markdown",
   "metadata": {},
   "source": [
    "# Google (stretch)"
   ]
  },
  {
   "cell_type": "markdown",
   "metadata": {},
   "source": [
    "Use the same process as the first two APIs"
   ]
  },
  {
   "cell_type": "markdown",
   "metadata": {},
   "source": [
    "# Database"
   ]
  },
  {
   "cell_type": "markdown",
   "metadata": {},
   "source": [
    "Put all your results in an SQLite3 database (remember, SQLite stores its databases as files in your local machine - make sure to create your database in your project's data/ directory!)"
   ]
  },
  {
   "cell_type": "code",
   "execution_count": null,
   "metadata": {},
   "outputs": [],
   "source": []
  },
  {
   "cell_type": "markdown",
   "metadata": {},
   "source": [
    "Get the top 10 restaurants according to their rating"
   ]
  },
  {
   "cell_type": "code",
   "execution_count": null,
   "metadata": {},
   "outputs": [],
   "source": []
  },
  {
   "cell_type": "markdown",
   "metadata": {},
   "source": [
    "# Travelling Salesman Problem (stretch)"
   ]
  },
  {
   "cell_type": "markdown",
   "metadata": {},
   "source": [
    "If you have time, follow the steps in the [ortools tutorial](https://developers.google.com/optimization/routing/tsp) using Google's [Directions API](https://developers.google.com/maps/documentation/directions/start)."
   ]
  },
  {
   "cell_type": "code",
   "execution_count": null,
   "metadata": {},
   "outputs": [],
   "source": []
  }
 ],
 "metadata": {
  "kernelspec": {
   "display_name": "Python 3 (ipykernel)",
   "language": "python",
   "name": "python3"
  },
  "language_info": {
   "codemirror_mode": {
    "name": "ipython",
    "version": 3
   },
   "file_extension": ".py",
   "mimetype": "text/x-python",
   "name": "python",
   "nbconvert_exporter": "python",
   "pygments_lexer": "ipython3",
   "version": "3.9.12"
  }
 },
 "nbformat": 4,
 "nbformat_minor": 2
}
